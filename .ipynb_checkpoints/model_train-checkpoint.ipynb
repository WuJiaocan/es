{
 "cells": [
  {
   "cell_type": "code",
   "execution_count": null,
   "metadata": {},
   "outputs": [],
   "source": [
    "with open(\"./testDataResult/testData_1.txt\", \"r\", encoding=\"utf-8\") as test_1:\n",
    "    "
   ]
  },
  {
   "cell_type": "markdown",
   "metadata": {},
   "source": [
    "## 将10个trainData.txt拼接成一个大的语料库trainData.txt"
   ]
  },
  {
   "cell_type": "code",
   "execution_count": 8,
   "metadata": {},
   "outputs": [],
   "source": [
    "import os\n",
    "trainData = open(\"trainData.txt\", \"w\", encoding=\"utf-8\")\n",
    "for file in os.listdir(r\"./trainDataResult\"):\n",
    "    domain = os.path.abspath(r\"./trainDataResult\")\n",
    "    if file.endswith(\".txt\"):\n",
    "        file = os.path.join(domain, file)\n",
    "        for line in open(file):\n",
    "            trainData.write(line)\n",
    "trainData.close()"
   ]
  },
  {
   "cell_type": "markdown",
   "metadata": {},
   "source": [
    "#### 将trainData拿给CRF++训练时，提示语料库有两列，有三列，不一致，将10篇.txt均处理"
   ]
  },
  {
   "cell_type": "code",
   "execution_count": 13,
   "metadata": {},
   "outputs": [],
   "source": [
    "for i  in range(1, 11):\n",
    "    train_data = open(\"./trainDataResult/trainData_%d.txt\" % i, \"r\", encoding=\"utf-8\")\n",
    "    train_data_new = open(\"./trainDataResult/trainData_%d_new.txt\" % i, \"w\", encoding=\"utf-8\")\n",
    "    for line in train_data:\n",
    "        column = line.split(\" \")\n",
    "        if len(column) == 2:\n",
    "            train_data_new.write(line) \n",
    "        else:\n",
    "            continue\n",
    "    train_data.close()\n",
    "    train_data_new.close()"
   ]
  },
  {
   "cell_type": "markdown",
   "metadata": {},
   "source": [
    "#### 将10篇重新整理成两列的数据整合到新的trainDataTotal.txt"
   ]
  },
  {
   "cell_type": "code",
   "execution_count": 9,
   "metadata": {},
   "outputs": [
    {
     "name": "stdout",
     "output_type": "stream",
     "text": [
      "/home/lx/Projects/wjc/es/trainDataResult/trainData_2_new.txt\n",
      "/home/lx/Projects/wjc/es/trainDataResult/trainData_1_new.txt\n",
      "/home/lx/Projects/wjc/es/trainDataResult/trainData_3_new.txt\n",
      "/home/lx/Projects/wjc/es/trainDataResult/trainData_4_new.txt\n",
      "/home/lx/Projects/wjc/es/trainDataResult/trainData_5_new.txt\n",
      "/home/lx/Projects/wjc/es/trainDataResult/trainData_6_new.txt\n",
      "/home/lx/Projects/wjc/es/trainDataResult/trainData_7_new.txt\n",
      "/home/lx/Projects/wjc/es/trainDataResult/trainData_8_new.txt\n",
      "/home/lx/Projects/wjc/es/trainDataResult/trainData_9_new.txt\n",
      "/home/lx/Projects/wjc/es/trainDataResult/trainData_10_new.txt\n"
     ]
    }
   ],
   "source": [
    "import os\n",
    "trainData = open(\"./trainDataTotal.txt\", \"w\", encoding=\"utf-8\")\n",
    "for file in os.listdir(r\"./trainDataResult\"):\n",
    "    domain = os.path.abspath(r\"./trainDataResult\")\n",
    "    if file.endswith(\".txt\"):\n",
    "        file = os.path.join(domain, file)\n",
    "        print(file)\n",
    "        for line in open(file):\n",
    "            trainData.write(line)\n",
    "trainData.close()"
   ]
  },
  {
   "cell_type": "markdown",
   "metadata": {},
   "source": [
    "#### 将testDataResult中的3篇.txt也针对2，3列不一致做处理"
   ]
  },
  {
   "cell_type": "code",
   "execution_count": 22,
   "metadata": {},
   "outputs": [],
   "source": [
    "for i  in range(1, 4):\n",
    "    test_data = open(\"./testDataResult/testData_%d.txt\" % i, \"r\", encoding=\"utf-8\")\n",
    "    test_data_new = open(\"./testDataResult/testData_%d_new.txt\" % i, \"w\", encoding=\"utf-8\")\n",
    "    for line in test_data:\n",
    "        column = line.split(\" \")\n",
    "        if len(column) == 2:\n",
    "            test_data_new.write(line) \n",
    "        else:\n",
    "            continue\n",
    "    test_data.close()\n",
    "    test_data_new.close()"
   ]
  },
  {
   "cell_type": "markdown",
   "metadata": {},
   "source": [
    "#### 每句话以空格分开"
   ]
  },
  {
   "cell_type": "code",
   "execution_count": 13,
   "metadata": {},
   "outputs": [
    {
     "name": "stdout",
     "output_type": "stream",
     "text": [
      "['你在北京 我,你是谁？在干嘛.']\n"
     ]
    }
   ],
   "source": [
    "import re\n",
    "a = \"你在北京 我,你是谁？在干嘛.\"\n",
    "sentences = re.split(r\"[。]\", a)\n",
    "\n",
    "\n",
    "print(sentences)"
   ]
  },
  {
   "cell_type": "code",
   "execution_count": 18,
   "metadata": {},
   "outputs": [
    {
     "name": "stdout",
     "output_type": "stream",
     "text": [
      "['这是个故事', '。', '很长很长的故事', '。', '']\n"
     ]
    }
   ],
   "source": [
    "import re\n",
    "a = \"这是个故事。很长很长的故事。\"\n",
    "b = a.strip()\n",
    "sentences = re.split(\"([。])\", b)\n",
    "\n",
    "print(sentences)"
   ]
  },
  {
   "cell_type": "markdown",
   "metadata": {},
   "source": [
    "#### 将valDataResult中的5539篇.txt先分词，再针对2，3列不一致做处理"
   ]
  },
  {
   "cell_type": "code",
   "execution_count": 3,
   "metadata": {},
   "outputs": [],
   "source": [
    "# 49859.txt -- 55397.txt\n"
   ]
  },
  {
   "cell_type": "markdown",
   "metadata": {},
   "source": [
    "## 调用pycrfsuite训练模型"
   ]
  },
  {
   "cell_type": "code",
   "execution_count": 24,
   "metadata": {},
   "outputs": [],
   "source": [
    "from sklearn.metrics import classification_report\n",
    "from sklearn.preprocessing import LabelBinarizer\n",
    "import pycrfsuite"
   ]
  }
 ],
 "metadata": {
  "kernelspec": {
   "display_name": "Python 3",
   "language": "python",
   "name": "python3"
  },
  "language_info": {
   "codemirror_mode": {
    "name": "ipython",
    "version": 3
   },
   "file_extension": ".py",
   "mimetype": "text/x-python",
   "name": "python",
   "nbconvert_exporter": "python",
   "pygments_lexer": "ipython3",
   "version": "3.6.5"
  }
 },
 "nbformat": 4,
 "nbformat_minor": 2
}
