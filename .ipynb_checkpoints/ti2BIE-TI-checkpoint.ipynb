{
 "cells": [
  {
   "cell_type": "markdown",
   "metadata": {},
   "source": [
    "#### 将 w ti\n",
    "####      w ti\n",
    "####      w ti\n",
    "#### 改成\n",
    "####      w B-TI\n",
    "####      w I-TI\n",
    "####      w E-TI"
   ]
  },
  {
   "cell_type": "code",
   "execution_count": 12,
   "metadata": {},
   "outputs": [
    {
     "name": "stdout",
     "output_type": "stream",
     "text": [
      "14311616\n"
     ]
    }
   ],
   "source": [
    "pair = []\n",
    "with open(\"./Corpus_3.txt\", \"r\", encoding=\"utf-8\") as output1:\n",
    "    for line in output1:\n",
    "        line = line.strip()\n",
    "        if len(line.split(\" \")) != 2:\n",
    "            print(line)\n",
    "        if len(line.split(\" \")) == 2:\n",
    "            word = line.split(\" \")[0]\n",
    "            pos = line.split(\" \")[1]\n",
    "            pair.append([word, pos])\n",
    "print(len(pair))"
   ]
  },
  {
   "cell_type": "code",
   "execution_count": 13,
   "metadata": {},
   "outputs": [
    {
     "name": "stdout",
     "output_type": "stream",
     "text": [
      "['头', 'nt']\n"
     ]
    }
   ],
   "source": [
    "print(pair[0])"
   ]
  },
  {
   "cell_type": "code",
   "execution_count": 14,
   "metadata": {},
   "outputs": [],
   "source": [
    "'''\n",
    "    将ti转换成B-TI/I-TI/E-TI\n",
    "'''\n",
    "with open(\"./Corpus_3TiLabel.txt\", \"w\", encoding=\"utf-8\") as input1:\n",
    "    \n",
    "    length = 0\n",
    "    \n",
    "    for i in range(len(pair)):\n",
    "        \n",
    "        if pair[i][1] != \"ti\": # 非ti标识的word正常写下来即可\n",
    "            input1.write(pair[i][0] + \" \" +pair[i][1] + \"\\r\\n\")\n",
    "            \n",
    "        if pair[i][1] == 'ti' and length > 1:\n",
    "            length -= 1\n",
    "            continue\n",
    "            \n",
    "        if pair[i][1] == 'ti' and length <= 1:\n",
    "\n",
    "            length = 1\n",
    "\n",
    "            for j in range(i+1, i+21): #  一般title不会超过20个字符\n",
    "                if pair[j][1] == 'ti':\n",
    "                    length += 1\n",
    "                else:\n",
    "                    break\n",
    "            \n",
    "            input1.write(pair[i][0] + \" \" +'B-TI' + \"\\r\\n\")\n",
    "            \n",
    "            if length == 2:\n",
    "                input1.write(pair[i+1][0] + \" \" +'E-TI' + \"\\r\\n\")\n",
    "                \n",
    "            elif length > 2:\n",
    "                for j in range(i+1, i+length-1):\n",
    "                    input1.write(pair[j][0] + \" \" +'I-TI' + \"\\r\\n\")   \n",
    "                input1.write(pair[i+length-1][0] + \" \" +'E-TI' + \"\\r\\n\")"
   ]
  },
  {
   "cell_type": "code",
   "execution_count": null,
   "metadata": {},
   "outputs": [],
   "source": []
  }
 ],
 "metadata": {
  "kernelspec": {
   "display_name": "Python 3",
   "language": "python",
   "name": "python3"
  },
  "language_info": {
   "codemirror_mode": {
    "name": "ipython",
    "version": 3
   },
   "file_extension": ".py",
   "mimetype": "text/x-python",
   "name": "python",
   "nbconvert_exporter": "python",
   "pygments_lexer": "ipython3",
   "version": "3.6.5"
  }
 },
 "nbformat": 4,
 "nbformat_minor": 2
}
