{
 "cells": [
  {
   "cell_type": "code",
   "execution_count": null,
   "metadata": {},
   "outputs": [],
   "source": [
    "# with open(\"./testDataResult/testData_1.txt\", \"r\", encoding=\"utf-8\") as test_1:\n",
    "    "
   ]
  },
  {
   "cell_type": "markdown",
   "metadata": {},
   "source": [
    "## 将10个trainData.txt拼接成一个大的语料库trainData.txt"
   ]
  },
  {
   "cell_type": "code",
   "execution_count": 7,
   "metadata": {},
   "outputs": [
    {
     "name": "stdout",
     "output_type": "stream",
     "text": [
      "/data/wjc/jupyter/es/trainDataResult/trainData10Exp.txt\n",
      "/data/wjc/jupyter/es/trainDataResult/trainData1Exp.txt\n",
      "/data/wjc/jupyter/es/trainDataResult/trainData2Exp.txt\n",
      "/data/wjc/jupyter/es/trainDataResult/trainData3Exp.txt\n",
      "/data/wjc/jupyter/es/trainDataResult/trainData4Exp.txt\n",
      "/data/wjc/jupyter/es/trainDataResult/trainData5Exp.txt\n",
      "/data/wjc/jupyter/es/trainDataResult/trainData6Exp.txt\n",
      "/data/wjc/jupyter/es/trainDataResult/trainData7Exp.txt\n",
      "/data/wjc/jupyter/es/trainDataResult/trainData8Exp.txt\n",
      "/data/wjc/jupyter/es/trainDataResult/trainData9Exp.txt\n"
     ]
    }
   ],
   "source": [
    "import os\n",
    "import re\n",
    "\n",
    "# 绝对路径    \n",
    "trainData = open(\"/data/wjc/jupyter/es/trainDataResult/trainDataTotalExp.txt\", \"w\", encoding=\"utf-8\")\n",
    "for file in os.listdir(r\"./trainDataResult\"):\n",
    "    domain = os.path.abspath(r\"./trainDataResult\")\n",
    "#     if file.endswith(\".txt\"):\n",
    "    if re.match(r'[a-zA-Z]{9}\\d{1,2}[a-zA-Z]{3}\\.[a-z]{3}', file):\n",
    "        file = os.path.join(domain, file)\n",
    "        print(file)\n",
    "        for line in open(file):\n",
    "            trainData.write(line)\n",
    "trainData.close()"
   ]
  },
  {
   "cell_type": "code",
   "execution_count": 6,
   "metadata": {},
   "outputs": [
    {
     "name": "stdout",
     "output_type": "stream",
     "text": [
      "ok\n"
     ]
    }
   ],
   "source": [
    "# 匹配trainData*Exp.txt格式的文件\n",
    "import re\n",
    "test = 'trainData9Exp.txt'\n",
    "if re.match(r'[a-zA-Z]{9}\\d{1,2}[a-zA-Z]{3}\\.[a-z]{3}', test):\n",
    "    print('ok') \n",
    "else:\n",
    "    print('failed') "
   ]
  },
  {
   "cell_type": "markdown",
   "metadata": {},
   "source": [
    "#### 将trainData拿给CRF++训练时，提示语料库有两列，有三列，不一致，将10篇.txt均处理"
   ]
  },
  {
   "cell_type": "code",
   "execution_count": 2,
   "metadata": {},
   "outputs": [],
   "source": [
    "for i  in range(1, 11):\n",
    "    train_data = open(\"./trainDataResult/trainData%dExp.txt\" % i, \"r\", encoding=\"utf-8\")\n",
    "#     train_data_new = open(\"./trainDataResult/trainData_%d_new.txt\" % i, \"w\", encoding=\"utf-8\")\n",
    "    for line in train_data:\n",
    "        column = line.split(\" \")\n",
    "        if len(column) != 2:\n",
    "            print(train_data)\n",
    "            print(line)\n",
    "#             train_data_new.write(line) \n",
    "        else:\n",
    "            continue\n",
    "    train_data.close()\n",
    "#     train_data_new.close()"
   ]
  },
  {
   "cell_type": "markdown",
   "metadata": {},
   "source": [
    "#### 将10篇重新整理成两列的数据整合到新的trainDataTotal.txt"
   ]
  },
  {
   "cell_type": "code",
   "execution_count": 9,
   "metadata": {},
   "outputs": [
    {
     "name": "stdout",
     "output_type": "stream",
     "text": [
      "/home/lx/Projects/wjc/es/trainDataResult/trainData_2_new.txt\n",
      "/home/lx/Projects/wjc/es/trainDataResult/trainData_1_new.txt\n",
      "/home/lx/Projects/wjc/es/trainDataResult/trainData_3_new.txt\n",
      "/home/lx/Projects/wjc/es/trainDataResult/trainData_4_new.txt\n",
      "/home/lx/Projects/wjc/es/trainDataResult/trainData_5_new.txt\n",
      "/home/lx/Projects/wjc/es/trainDataResult/trainData_6_new.txt\n",
      "/home/lx/Projects/wjc/es/trainDataResult/trainData_7_new.txt\n",
      "/home/lx/Projects/wjc/es/trainDataResult/trainData_8_new.txt\n",
      "/home/lx/Projects/wjc/es/trainDataResult/trainData_9_new.txt\n",
      "/home/lx/Projects/wjc/es/trainDataResult/trainData_10_new.txt\n"
     ]
    }
   ],
   "source": [
    "# import os\n",
    "# trainData = open(\"./trainDataTotal.txt\", \"w\", encoding=\"utf-8\")\n",
    "# for file in os.listdir(r\"./trainDataResult\"):\n",
    "#     domain = os.path.abspath(r\"./trainDataResult\")\n",
    "#     if file.endswith(\".txt\"):\n",
    "#         file = os.path.join(domain, file)\n",
    "#         print(file)\n",
    "#         for line in open(file):\n",
    "#             trainData.write(line)\n",
    "# trainData.close()"
   ]
  },
  {
   "cell_type": "markdown",
   "metadata": {},
   "source": [
    "#### 将testDataResult中的3篇.txt也针对2，3列不一致做处理"
   ]
  },
  {
   "cell_type": "code",
   "execution_count": 22,
   "metadata": {},
   "outputs": [],
   "source": [
    "# for i  in range(1, 4):\n",
    "#     test_data = open(\"./testDataResult/testData_%d.txt\" % i, \"r\", encoding=\"utf-8\")\n",
    "#     test_data_new = open(\"./testDataResult/testData_%d_new.txt\" % i, \"w\", encoding=\"utf-8\")\n",
    "#     for line in test_data:\n",
    "#         column = line.split(\" \")\n",
    "#         if len(column) == 2:\n",
    "#             test_data_new.write(line) \n",
    "#         else:\n",
    "#             continue\n",
    "#     test_data.close()\n",
    "#     test_data_new.close()"
   ]
  },
  {
   "cell_type": "markdown",
   "metadata": {},
   "source": [
    "#### 每句话以空格分开"
   ]
  },
  {
   "cell_type": "code",
   "execution_count": 13,
   "metadata": {},
   "outputs": [
    {
     "name": "stdout",
     "output_type": "stream",
     "text": [
      "['你在北京 我,你是谁？在干嘛.']\n"
     ]
    }
   ],
   "source": [
    "# import re\n",
    "# a = \"你在北京 我,你是谁？在干嘛.\"\n",
    "# sentences = re.split(r\"[。]\", a)\n",
    "\n",
    "\n",
    "# print(sentences)"
   ]
  },
  {
   "cell_type": "code",
   "execution_count": 18,
   "metadata": {},
   "outputs": [
    {
     "name": "stdout",
     "output_type": "stream",
     "text": [
      "['这是个故事', '。', '很长很长的故事', '。', '']\n"
     ]
    }
   ],
   "source": [
    "# import re\n",
    "# a = \"这是个故事。很长很长的故事。\"\n",
    "# b = a.strip()\n",
    "# sentences = re.split(\"([。])\", b)\n",
    "\n",
    "# print(sentences)"
   ]
  },
  {
   "cell_type": "markdown",
   "metadata": {},
   "source": [
    "#### 将valDataResult中的5539篇.txt先分词，再针对2，3列不一致做处理"
   ]
  },
  {
   "cell_type": "code",
   "execution_count": 3,
   "metadata": {},
   "outputs": [],
   "source": [
    "# 49859.txt -- 55397.txt\n"
   ]
  },
  {
   "cell_type": "markdown",
   "metadata": {},
   "source": [
    "## 调用pycrfsuite训练模型"
   ]
  },
  {
   "cell_type": "code",
   "execution_count": 24,
   "metadata": {},
   "outputs": [],
   "source": [
    "from sklearn.metrics import classification_report\n",
    "from sklearn.preprocessing import LabelBinarizer\n",
    "import pycrfsuite"
   ]
  },
  {
   "cell_type": "code",
   "execution_count": 3,
   "metadata": {},
   "outputs": [],
   "source": [
    "data = open(\"./RESULT_Newformat.txt\", \"w\", encoding=\"utf-8\")\n",
    "with open(\"./RESULT.txt\", \"r\", encoding=\"utf-8\") as output:\n",
    "    for line in output:\n",
    "        if line:\n",
    "            line = line.strip()\n",
    "            pair = line.split(\" \")\n",
    "            word = pair[0]\n",
    "            truePos = pair[1]\n",
    "            data.write(word + \" \" + truePos + \"\\r\\n\")\n",
    "data.close()"
   ]
  },
  {
   "cell_type": "code",
   "execution_count": 6,
   "metadata": {},
   "outputs": [],
   "source": [
    "with open(\"./RESULT_Newformat.txt\", \"r\", encoding=\"utf-8\") as output:\n",
    "     for line in output:\n",
    "        if line:\n",
    "            line = line.strip()\n",
    "            pair = line.split(\" \")\n",
    "            if len(pair) != 2:\n",
    "                print(line)"
   ]
  },
  {
   "cell_type": "code",
   "execution_count": 7,
   "metadata": {},
   "outputs": [],
   "source": [
    "data = open(\"./RESULT_from trainData1.txt\", \"w\", encoding=\"utf-8\")\n",
    "with open(\"./result_5_NewFormat.txt\", \"r\", encoding=\"utf-8\") as output:\n",
    "    for line in output:\n",
    "        if line:\n",
    "            line = line.strip()\n",
    "            pair = line.split(\" \")\n",
    "            word = pair[0]\n",
    "            truePos = pair[1]\n",
    "            predPos = pair[2]\n",
    "            if truePos == \"o\" and predPos == \"ti\":\n",
    "                data.write(word + \" \" + predPos+ \"\\r\\n\")\n",
    "            else:\n",
    "                data.write(word + \" \" + truePos+ \"\\r\\n\")\n",
    "data.close()"
   ]
  },
  {
   "cell_type": "code",
   "execution_count": 8,
   "metadata": {},
   "outputs": [],
   "source": [
    "data1 = open(\"./RESULT_from testData1.txt\", \"r\", encoding=\"utf-8\")\n",
    "data2 = open(\"./RESULT_from trainData1.txt\", \"r\", encoding=\"utf-8\")\n",
    "data = open(\"./RESULT_1.txt\", \"w\", encoding=\"utf-8\")\n",
    "for line in data1:\n",
    "    line = line.strip()\n",
    "    pair = line.split(\" \")\n",
    "    data.write(pair[0] + \" \" + pair[1] + \"\\r\\n\")\n",
    "    \n",
    "for line in data2:\n",
    "    line = line.strip()\n",
    "    pair = line.split(\" \")\n",
    "    data.write(pair[0] + \" \" + pair[1] + \"\\r\\n\")\n",
    "    \n",
    "data1.close()\n",
    "data2.close()\n",
    "data.close()"
   ]
  },
  {
   "cell_type": "code",
   "execution_count": 1,
   "metadata": {},
   "outputs": [
    {
     "name": "stdout",
     "output_type": "stream",
     "text": [
      "169\n"
     ]
    }
   ],
   "source": [
    "data = open(\"./0.txt\", \"r\", encoding=\"utf-8\")\n",
    "sent_list = []\n",
    "for line in data:\n",
    "    line = line.strip()\n",
    "    sent_list.append(line)"
   ]
  },
  {
   "cell_type": "code",
   "execution_count": 2,
   "metadata": {},
   "outputs": [
    {
     "name": "stdout",
     "output_type": "stream",
     "text": [
      "在4月的华东私董聚会上，一个投资人说：“之所以加入私董，就因为这一年太焦虑了”。其实，焦虑的不止你一个。\n"
     ]
    }
   ],
   "source": []
  },
  {
   "cell_type": "code",
   "execution_count": null,
   "metadata": {},
   "outputs": [],
   "source": []
  }
 ],
 "metadata": {
  "kernelspec": {
   "display_name": "Python 3",
   "language": "python",
   "name": "python3"
  },
  "language_info": {
   "codemirror_mode": {
    "name": "ipython",
    "version": 3
   },
   "file_extension": ".py",
   "mimetype": "text/x-python",
   "name": "python",
   "nbconvert_exporter": "python",
   "pygments_lexer": "ipython3",
   "version": "3.6.5"
  }
 },
 "nbformat": 4,
 "nbformat_minor": 2
}
